{
 "cells": [
  {
   "cell_type": "markdown",
   "id": "b15b1a59",
   "metadata": {},
   "source": [
    "#### EX 2 PRE-PROCESSING-DATA/movies.dat"
   ]
  },
  {
   "cell_type": "code",
   "execution_count": 137,
   "id": "7685718b",
   "metadata": {},
   "outputs": [
    {
     "data": {
      "text/html": [
       "<div>\n",
       "<style scoped>\n",
       "    .dataframe tbody tr th:only-of-type {\n",
       "        vertical-align: middle;\n",
       "    }\n",
       "\n",
       "    .dataframe tbody tr th {\n",
       "        vertical-align: top;\n",
       "    }\n",
       "\n",
       "    .dataframe thead th {\n",
       "        text-align: right;\n",
       "    }\n",
       "</style>\n",
       "<table border=\"1\" class=\"dataframe\">\n",
       "  <thead>\n",
       "    <tr style=\"text-align: right;\">\n",
       "      <th></th>\n",
       "      <th>titol</th>\n",
       "      <th>genere</th>\n",
       "    </tr>\n",
       "  </thead>\n",
       "  <tbody>\n",
       "    <tr>\n",
       "      <th>1</th>\n",
       "      <td>Toy Story (1995)</td>\n",
       "      <td>Animation|Children's|Comedy</td>\n",
       "    </tr>\n",
       "    <tr>\n",
       "      <th>2</th>\n",
       "      <td>Jumanji (1995)</td>\n",
       "      <td>Adventure|Children's|Fantasy</td>\n",
       "    </tr>\n",
       "    <tr>\n",
       "      <th>3</th>\n",
       "      <td>Grumpier Old Men (1995)</td>\n",
       "      <td>Comedy|Romance</td>\n",
       "    </tr>\n",
       "    <tr>\n",
       "      <th>4</th>\n",
       "      <td>Waiting to Exhale (1995)</td>\n",
       "      <td>Comedy|Drama</td>\n",
       "    </tr>\n",
       "    <tr>\n",
       "      <th>5</th>\n",
       "      <td>Father of the Bride Part II (1995)</td>\n",
       "      <td>Comedy</td>\n",
       "    </tr>\n",
       "    <tr>\n",
       "      <th>...</th>\n",
       "      <td>...</td>\n",
       "      <td>...</td>\n",
       "    </tr>\n",
       "    <tr>\n",
       "      <th>3948</th>\n",
       "      <td>Meet the Parents (2000)</td>\n",
       "      <td>Comedy</td>\n",
       "    </tr>\n",
       "    <tr>\n",
       "      <th>3949</th>\n",
       "      <td>Requiem for a Dream (2000)</td>\n",
       "      <td>Drama</td>\n",
       "    </tr>\n",
       "    <tr>\n",
       "      <th>3950</th>\n",
       "      <td>Tigerland (2000)</td>\n",
       "      <td>Drama</td>\n",
       "    </tr>\n",
       "    <tr>\n",
       "      <th>3951</th>\n",
       "      <td>Two Family House (2000)</td>\n",
       "      <td>Drama</td>\n",
       "    </tr>\n",
       "    <tr>\n",
       "      <th>3952</th>\n",
       "      <td>Contender, The (2000)</td>\n",
       "      <td>Drama|Thriller</td>\n",
       "    </tr>\n",
       "  </tbody>\n",
       "</table>\n",
       "<p>3883 rows × 2 columns</p>\n",
       "</div>"
      ],
      "text/plain": [
       "                                   titol                        genere\n",
       "1                       Toy Story (1995)   Animation|Children's|Comedy\n",
       "2                         Jumanji (1995)  Adventure|Children's|Fantasy\n",
       "3                Grumpier Old Men (1995)                Comedy|Romance\n",
       "4               Waiting to Exhale (1995)                  Comedy|Drama\n",
       "5     Father of the Bride Part II (1995)                        Comedy\n",
       "...                                  ...                           ...\n",
       "3948             Meet the Parents (2000)                        Comedy\n",
       "3949          Requiem for a Dream (2000)                         Drama\n",
       "3950                    Tigerland (2000)                         Drama\n",
       "3951             Two Family House (2000)                         Drama\n",
       "3952               Contender, The (2000)                Drama|Thriller\n",
       "\n",
       "[3883 rows x 2 columns]"
      ]
     },
     "execution_count": 137,
     "metadata": {},
     "output_type": "execute_result"
    }
   ],
   "source": [
    "import matplotlib.pyplot as plt\n",
    "import pandas as pd\n",
    "import re              # importo llibreries pandas i re ( per expressions regulars)\n",
    "\n",
    "pelis= pd.read_csv(\"movies.dat\", encoding=\"ansi\", sep=\"::\", names=['titol', 'genere'], engine=\"python\")\n",
    "\n",
    "                       # el fitxer \"movies.dat\" es pot obrir sense dificultat si el encoding es tipus ansi,  i especificant\n",
    "                       #  que cal que el fitxer el separi  per ::\n",
    "                       # que mostri  les columnes titol  i génere\n",
    "                       # motor entorn python\n",
    "                \n",
    "                \n",
    "pelis                  #el dataset mostra titol amb el any tot a la mateixa columna\n",
    "                       # la columna genere te tots els generes separats per |\n",
    "                \n",
    "\n",
    "\n"
   ]
  },
  {
   "cell_type": "code",
   "execution_count": 98,
   "id": "e3cb4124",
   "metadata": {},
   "outputs": [
    {
     "data": {
      "text/html": [
       "<div>\n",
       "<style scoped>\n",
       "    .dataframe tbody tr th:only-of-type {\n",
       "        vertical-align: middle;\n",
       "    }\n",
       "\n",
       "    .dataframe tbody tr th {\n",
       "        vertical-align: top;\n",
       "    }\n",
       "\n",
       "    .dataframe thead th {\n",
       "        text-align: right;\n",
       "    }\n",
       "</style>\n",
       "<table border=\"1\" class=\"dataframe\">\n",
       "  <thead>\n",
       "    <tr style=\"text-align: right;\">\n",
       "      <th></th>\n",
       "      <th>titol</th>\n",
       "      <th>genere</th>\n",
       "      <th>any</th>\n",
       "    </tr>\n",
       "  </thead>\n",
       "  <tbody>\n",
       "    <tr>\n",
       "      <th>1</th>\n",
       "      <td>Toy Story (1995)</td>\n",
       "      <td>Animation</td>\n",
       "      <td>1995</td>\n",
       "    </tr>\n",
       "    <tr>\n",
       "      <th>2</th>\n",
       "      <td>Jumanji (1995)</td>\n",
       "      <td>Adventure</td>\n",
       "      <td>1995</td>\n",
       "    </tr>\n",
       "    <tr>\n",
       "      <th>3</th>\n",
       "      <td>Grumpier Old Men (1995)</td>\n",
       "      <td>Comedy</td>\n",
       "      <td>1995</td>\n",
       "    </tr>\n",
       "    <tr>\n",
       "      <th>4</th>\n",
       "      <td>Waiting to Exhale (1995)</td>\n",
       "      <td>Comedy</td>\n",
       "      <td>1995</td>\n",
       "    </tr>\n",
       "    <tr>\n",
       "      <th>5</th>\n",
       "      <td>Father of the Bride Part II (1995)</td>\n",
       "      <td>Comedy</td>\n",
       "      <td>1995</td>\n",
       "    </tr>\n",
       "    <tr>\n",
       "      <th>...</th>\n",
       "      <td>...</td>\n",
       "      <td>...</td>\n",
       "      <td>...</td>\n",
       "    </tr>\n",
       "    <tr>\n",
       "      <th>3948</th>\n",
       "      <td>Meet the Parents (2000)</td>\n",
       "      <td>Comedy</td>\n",
       "      <td>2000</td>\n",
       "    </tr>\n",
       "    <tr>\n",
       "      <th>3949</th>\n",
       "      <td>Requiem for a Dream (2000)</td>\n",
       "      <td>Drama</td>\n",
       "      <td>2000</td>\n",
       "    </tr>\n",
       "    <tr>\n",
       "      <th>3950</th>\n",
       "      <td>Tigerland (2000)</td>\n",
       "      <td>Drama</td>\n",
       "      <td>2000</td>\n",
       "    </tr>\n",
       "    <tr>\n",
       "      <th>3951</th>\n",
       "      <td>Two Family House (2000)</td>\n",
       "      <td>Drama</td>\n",
       "      <td>2000</td>\n",
       "    </tr>\n",
       "    <tr>\n",
       "      <th>3952</th>\n",
       "      <td>Contender, The (2000)</td>\n",
       "      <td>Drama</td>\n",
       "      <td>2000</td>\n",
       "    </tr>\n",
       "  </tbody>\n",
       "</table>\n",
       "<p>3883 rows × 3 columns</p>\n",
       "</div>"
      ],
      "text/plain": [
       "                                   titol     genere   any\n",
       "1                       Toy Story (1995)  Animation  1995\n",
       "2                         Jumanji (1995)  Adventure  1995\n",
       "3                Grumpier Old Men (1995)     Comedy  1995\n",
       "4               Waiting to Exhale (1995)     Comedy  1995\n",
       "5     Father of the Bride Part II (1995)     Comedy  1995\n",
       "...                                  ...        ...   ...\n",
       "3948             Meet the Parents (2000)     Comedy  2000\n",
       "3949          Requiem for a Dream (2000)      Drama  2000\n",
       "3950                    Tigerland (2000)      Drama  2000\n",
       "3951             Two Family House (2000)      Drama  2000\n",
       "3952               Contender, The (2000)      Drama  2000\n",
       "\n",
       "[3883 rows x 3 columns]"
      ]
     },
     "execution_count": 98,
     "metadata": {},
     "output_type": "execute_result"
    }
   ],
   "source": [
    "    # expressions regulars                                  busco com puc separar l'any del t´tol de la peli \n",
    "any = []                                                    # llista any buida\n",
    "    for titol in pelis['titol']:                           #per els noms de películes de la columna titol  del dataframe pelis\n",
    "        any.append(re.search('\\d{4}', titol).group())      #afegeixo a la llista any, i usant les expressions regulars\n",
    "                                                       # de la llibreria re la funció search busca '\\ d = valors numérics \n",
    "                                                       #i li dic que busqui 4  {4}  '\n",
    "\n",
    "pelis['any'] = any                          # la llista any la paso a la columna de la dataset pelis\n",
    " \n",
    "genere_unic = []                           # creo una llista buida que es diu genere_unic\n",
    "\n",
    "    for genere in pelis['genere']:             # recorro la columna genere del dataframe pelis\n",
    "    \n",
    "        genere_unic.append(genere.split('|')[0])    #  genere_unic va guardant el genere que troba a la posició [0]\n",
    "                                                # split separa els generes pq estan separats per | \n",
    "pelis['genere'] = genere_unic \n",
    "                                                # mostro la columna genere  que només te un genere  \n",
    "\n",
    "pelis"
   ]
  },
  {
   "cell_type": "markdown",
   "id": "8670fe9e",
   "metadata": {},
   "source": [
    "### Ex 3"
   ]
  },
  {
   "cell_type": "code",
   "execution_count": 71,
   "id": "223aa34f",
   "metadata": {},
   "outputs": [
    {
     "data": {
      "text/html": [
       "<div>\n",
       "<style scoped>\n",
       "    .dataframe tbody tr th:only-of-type {\n",
       "        vertical-align: middle;\n",
       "    }\n",
       "\n",
       "    .dataframe tbody tr th {\n",
       "        vertical-align: top;\n",
       "    }\n",
       "\n",
       "    .dataframe thead th {\n",
       "        text-align: right;\n",
       "    }\n",
       "</style>\n",
       "<table border=\"1\" class=\"dataframe\">\n",
       "  <thead>\n",
       "    <tr style=\"text-align: right;\">\n",
       "      <th></th>\n",
       "      <th>titol</th>\n",
       "      <th>genere</th>\n",
       "      <th>any</th>\n",
       "    </tr>\n",
       "  </thead>\n",
       "  <tbody>\n",
       "    <tr>\n",
       "      <th>count</th>\n",
       "      <td>3883</td>\n",
       "      <td>3883</td>\n",
       "      <td>3883</td>\n",
       "    </tr>\n",
       "    <tr>\n",
       "      <th>unique</th>\n",
       "      <td>3883</td>\n",
       "      <td>18</td>\n",
       "      <td>88</td>\n",
       "    </tr>\n",
       "    <tr>\n",
       "      <th>top</th>\n",
       "      <td>Toy Story (1995)</td>\n",
       "      <td>Drama</td>\n",
       "      <td>1996</td>\n",
       "    </tr>\n",
       "    <tr>\n",
       "      <th>freq</th>\n",
       "      <td>1</td>\n",
       "      <td>1176</td>\n",
       "      <td>344</td>\n",
       "    </tr>\n",
       "  </tbody>\n",
       "</table>\n",
       "</div>"
      ],
      "text/plain": [
       "                   titol genere   any\n",
       "count               3883   3883  3883\n",
       "unique              3883     18    88\n",
       "top     Toy Story (1995)  Drama  1996\n",
       "freq                   1   1176   344"
      ]
     },
     "execution_count": 71,
     "metadata": {},
     "output_type": "execute_result"
    }
   ],
   "source": [
    "pelis.describe()\n",
    "\n",
    "\n"
   ]
  },
  {
   "cell_type": "code",
   "execution_count": 55,
   "id": "7ace7564",
   "metadata": {},
   "outputs": [
    {
     "data": {
      "text/plain": [
       "Drama          1176\n",
       "Comedy         1024\n",
       "Action          503\n",
       "Horror          262\n",
       "Adventure       155\n",
       "Crime           131\n",
       "Documentary     123\n",
       "Thriller        101\n",
       "Animation        90\n",
       "Children's       89\n",
       "Romance          50\n",
       "Sci-Fi           46\n",
       "Mystery          36\n",
       "Western          33\n",
       "Film-Noir        25\n",
       "Musical          25\n",
       "War              12\n",
       "Fantasy           2\n",
       "Name: genere, dtype: int64"
      ]
     },
     "execution_count": 55,
     "metadata": {},
     "output_type": "execute_result"
    }
   ],
   "source": [
    "pelis.genere.value_counts()"
   ]
  },
  {
   "cell_type": "code",
   "execution_count": 99,
   "id": "023bb0bf",
   "metadata": {},
   "outputs": [
    {
     "data": {
      "text/plain": [
       "Text(0.5, 0, 'freqüència')"
      ]
     },
     "execution_count": 99,
     "metadata": {},
     "output_type": "execute_result"
    },
    {
     "data": {
      "image/png": "[encoded data removed]",
      "text/plain": [
       "<Figure size 640x480 with 1 Axes>"
      ]
     },
     "metadata": {},
     "output_type": "display_data"
    }
   ],
   "source": [
    "serie=pelis.genere.value_counts()\n",
    "serie.plot.barh()                 # gràfica de barres horitzontals per llegir millor els gèneres\n",
    "plt.ylabel('gènere')\n",
    "plt.title('Quantitat de películes que tenen el mateix génere')\n",
    "plt.xlabel('freqüència')"
   ]
  },
  {
   "cell_type": "code",
   "execution_count": 104,
   "id": "90ee325f",
   "metadata": {},
   "outputs": [
    {
     "data": {
      "text/plain": [
       "Drama          1176\n",
       "Comedy         1024\n",
       "Action          503\n",
       "Horror          262\n",
       "Adventure       155\n",
       "Crime           131\n",
       "Documentary     123\n",
       "Thriller        101\n",
       "Animation        90\n",
       "Children's       89\n",
       "Romance          50\n",
       "Sci-Fi           46\n",
       "Mystery          36\n",
       "Western          33\n",
       "Film-Noir        25\n",
       "Musical          25\n",
       "War              12\n",
       "Fantasy           2\n",
       "Name: genere, dtype: int64"
      ]
     },
     "execution_count": 104,
     "metadata": {},
     "output_type": "execute_result"
    }
   ],
   "source": [
    "serie3=pelis['genere'].value_counts()   #serie3 té els valors dels diferents gèneres\n",
    "      \n",
    "\n",
    "\n",
    "serie3"
   ]
  },
  {
   "cell_type": "code",
   "execution_count": 136,
   "id": "f9bc1770",
   "metadata": {},
   "outputs": [
    {
     "data": {
      "text/plain": [
       "Text(0.5, 0, '')"
      ]
     },
     "execution_count": 136,
     "metadata": {},
     "output_type": "execute_result"
    },
    {
     "data": {
      "image/png": "[encoded data removed]",
      "text/plain": [
       "<Figure size 640x480 with 1 Axes>"
      ]
     },
     "metadata": {},
     "output_type": "display_data"
    }
   ],
   "source": [
    "serie3.plot.box() # amb aquest diagrama de caixes, puc dir que hi ha tres gèneres que están\n",
    "                  #fora de la mitja son valors atípics\n",
    "                  #els altres generes s'acosten a la mitja i els bigotis ens donen la variabilitat fora dels quartils\n",
    "plt.ylabel('freqüència')\n",
    "plt.title('valors atípics en els géneres')\n",
    "plt.xlabel('')                 "
   ]
  },
  {
   "cell_type": "code",
   "execution_count": 128,
   "id": "2922997b",
   "metadata": {},
   "outputs": [
    {
     "data": {
      "text/plain": [
       "215.72222222222223"
      ]
     },
     "execution_count": 128,
     "metadata": {},
     "output_type": "execute_result"
    }
   ],
   "source": [
    "serie3.mean()      #mitja"
   ]
  },
  {
   "cell_type": "code",
   "execution_count": 129,
   "id": "b57dccd7",
   "metadata": {},
   "outputs": [
    {
     "data": {
      "text/plain": [
       "343.5533703817409"
      ]
     },
     "execution_count": 129,
     "metadata": {},
     "output_type": "execute_result"
    }
   ],
   "source": [
    "serie3.std()     #desviació estandard"
   ]
  },
  {
   "cell_type": "code",
   "execution_count": 130,
   "id": "91b72056",
   "metadata": {},
   "outputs": [
    {
     "data": {
      "text/plain": [
       "3883"
      ]
     },
     "execution_count": 130,
     "metadata": {},
     "output_type": "execute_result"
    }
   ],
   "source": [
    "serie3.sum()     # números registres"
   ]
  },
  {
   "cell_type": "code",
   "execution_count": 133,
   "id": "a5a5993a",
   "metadata": {},
   "outputs": [
    {
     "data": {
      "text/plain": [
       "count      18.000000\n",
       "mean      215.722222\n",
       "std       343.553370\n",
       "min         2.000000\n",
       "25%        33.750000\n",
       "50%        89.500000\n",
       "75%       149.000000\n",
       "max      1176.000000\n",
       "Name: genere, dtype: float64"
      ]
     },
     "execution_count": 133,
     "metadata": {},
     "output_type": "execute_result"
    }
   ],
   "source": [
    "serie3.describe()   # informació de serie3"
   ]
  }
 ],
 "metadata": {
  "kernelspec": {
   "display_name": "Python 3 (ipykernel)",
   "language": "python",
   "name": "python3"
  },
  "language_info": {
   "codemirror_mode": {
    "name": "ipython",
    "version": 3
   },
   "file_extension": ".py",
   "mimetype": "text/x-python",
   "name": "python",
   "nbconvert_exporter": "python",
   "pygments_lexer": "ipython3",
   "version": "3.9.13"
  }
 },
 "nbformat": 4,
 "nbformat_minor": 5
}
